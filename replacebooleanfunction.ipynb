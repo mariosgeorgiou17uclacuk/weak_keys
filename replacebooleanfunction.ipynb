{
 "cells": [
  {
   "cell_type": "code",
   "execution_count": 1137,
   "metadata": {
    "collapsed": false,
    "deletable": true,
    "editable": true
   },
   "outputs": [
    {
     "data": {
      "text/plain": [
       "x0*x1*x2*x3*x4 + x0*x1*x2*x3 + x0*x1*x2*x4 + x0*x1*x3*x4*x5 + x0*x1*x3*x4 + x0*x1*x3 + x0*x1*x4 + x0*x1 + x0*x2*x3*x4*x5 + x0*x2*x3*x4 + x0*x2*x3*x5 + x0*x2*x3 + x0*x2*x4*x5 + x0*x2 + x0*x3*x5 + x0*x4*x5 + x0*x4 + x1*x2*x3*x4*x5 + x1*x2*x3*x4 + x1*x2*x4 + x1*x2*x5 + x1*x3*x4*x5 + x1*x3*x4 + x1*x3 + x1*x4 + x2*x3*x4*x5 + x2*x3 + x2*x4*x5 + x2*x4 + x2*x5 + x2 + x3*x5 + x4*x5 + x5 + 1"
      ]
     },
     "execution_count": 1137,
     "metadata": {},
     "output_type": "execute_result"
    }
   ],
   "source": [
    "# Use a random Boolean function of 6 variables\n",
    "from sage.crypto.boolean_function import random_boolean_function\n",
    "B = random_boolean_function(6)\n",
    "P = B.algebraic_normal_form()"
   ]
  },
  {
   "cell_type": "code",
   "execution_count": 1138,
   "metadata": {
    "collapsed": false,
    "deletable": true,
    "editable": true
   },
   "outputs": [],
   "source": [
    "# You can also use the Boolean function of T-310 below\n",
    "# P = 'x0 + x4 + x5 + x0*x3 + x1*x2 + x1*x4 + x3*x4 + x4*x5 + x0*x2*x3 + x0*x2*x5 + x0*x3*x4 + x1*x2*x5 + x1*x3*x5 + x2*x4*x5 + x0*x1*x2*x3 + x0*x1*x2*x4 + x0*x1*x4*x5 + x1*x2*x3*x5 + x0*x1*x2*x3*x4 + x0*x2*x3*x4*x5'"
   ]
  },
  {
   "cell_type": "code",
   "execution_count": 1139,
   "metadata": {
    "collapsed": false,
    "deletable": true,
    "editable": true
   },
   "outputs": [
    {
     "data": {
      "text/plain": [
       "'(1*l*d*c*k + 1*l*d*c + 1*l*d*k + 1*l*c*k*h + 1*l*c*k + 1*l*c + 1*l*k + 1*l + 1*d*c*k*h + 1*d*c*k + 1*d*c*h + 1*d*c + 1*d*k*h + 1*d + 1*c*h + 1*k*h + 1*k + l*d*c*k*h + l*d*c*k + l*d*k + l*d*h + l*c*k*h + l*c*k + l*c + l*k + d*c*k*h + d*c + d*k*h + d*k + d*h + d + c*h + k*h + h + 1)'"
      ]
     },
     "execution_count": 1139,
     "metadata": {},
     "output_type": "execute_result"
    }
   ],
   "source": [
    "# Substitute L = x0 by 0 or 1\n",
    "# Substitute x1,x2,x3,x4,x5 by the corresponding variable names\n",
    "boolean = str(P)\n",
    "temp = boolean.split(' + ')\n",
    "for i, t in enumerate(temp):\n",
    "    temp[i] = temp[i].replace('x0', '1')\n",
    "    temp[i] = temp[i].replace('x1', 'l')\n",
    "    temp[i] = temp[i].replace('x2', 'd')\n",
    "    temp[i] = temp[i].replace('x3', 'c')\n",
    "    temp[i] = temp[i].replace('x4', 'k')\n",
    "    temp[i] = temp[i].replace('x5', 'h')\n",
    "boolean = ' + '.join(temp)\n",
    "boolean = '(' + boolean + ')'"
   ]
  },
  {
   "cell_type": "code",
   "execution_count": 1,
   "metadata": {
    "collapsed": true,
    "deletable": true,
    "editable": true
   },
   "outputs": [],
   "source": [
    "# Read the file which contains the two XORed columns of 'IOquestion12j.all_monomials.txt'\n",
    "R.<F,Z,a,b,c,d,e,f,g,h,i,j,k,l> = PolynomialRing(GF(2),14)\n",
    "with open('IOmonomials.temp.txt', 'r') as f:\n",
    "    L = f.readlines()\n",
    "    L = [l.strip() for l in L]"
   ]
  },
  {
   "cell_type": "code",
   "execution_count": 1141,
   "metadata": {
    "collapsed": false,
    "deletable": true,
    "editable": true
   },
   "outputs": [],
   "source": [
    "# Substitute F by 0 or 1\n",
    "# Substitute Z by the Boolean function\n",
    "i = 0\n",
    "lista = [None] * 4095\n",
    "while i <= 4094:\n",
    "    lista[i] = L[i]\n",
    "    lista[i] = lista[i].replace('F', '0')\n",
    "    lista[i] = lista[i].replace('Z', boolean)\n",
    "    i = i + 1"
   ]
  },
  {
   "cell_type": "code",
   "execution_count": 1142,
   "metadata": {
    "collapsed": false,
    "deletable": true,
    "editable": true
   },
   "outputs": [],
   "source": [
    "# Compute all resulting polynomials after the\n",
    "# substitution of F,L and Z\n",
    "i = 0\n",
    "lista2 = [None] * 4095\n",
    "while i <= 4094:\n",
    "    lista2[i] = R(lista[i])\n",
    "    lista2[i] = str(lista2[i])\n",
    "    i = i + 1\n",
    "for i, l in enumerate(lista2):\n",
    "    lista2[i] = lista2[i].replace('^2', '')\n",
    "    lista2[i] = lista2[i].replace('^3', '')"
   ]
  },
  {
   "cell_type": "code",
   "execution_count": 1144,
   "metadata": {
    "collapsed": true,
    "deletable": true,
    "editable": true
   },
   "outputs": [],
   "source": [
    "# Write the result into a text file\n",
    "with open('IOmonomials.temp2.txt', 'w') as f:\n",
    "    i = 0\n",
    "    while i <= 4094:\n",
    "        f.write(lista2[i] + '\\n')\n",
    "        i = i + 1"
   ]
  },
  {
   "cell_type": "code",
   "execution_count": null,
   "metadata": {
    "collapsed": true,
    "deletable": true,
    "editable": true
   },
   "outputs": [],
   "source": []
  }
 ],
 "metadata": {
  "kernelspec": {
   "display_name": "SageMath 8.0",
   "language": "",
   "name": "sagemath"
  },
  "language_info": {
   "codemirror_mode": {
    "name": "ipython",
    "version": 2
   },
   "file_extension": ".py",
   "mimetype": "text/x-python",
   "name": "python",
   "nbconvert_exporter": "python",
   "pygments_lexer": "ipython2",
   "version": "2.7.13"
  }
 },
 "nbformat": 4,
 "nbformat_minor": 2
}
